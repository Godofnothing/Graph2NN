{
 "cells": [
  {
   "cell_type": "code",
   "execution_count": 1,
   "metadata": {},
   "outputs": [],
   "source": [
    "import matplotlib.pyplot as plt\n",
    "import json"
   ]
  },
  {
   "cell_type": "code",
   "execution_count": 2,
   "metadata": {},
   "outputs": [],
   "source": [
    "%load_ext autoreload\n",
    "%autoreload 2"
   ]
  },
  {
   "cell_type": "code",
   "execution_count": 3,
   "metadata": {},
   "outputs": [],
   "source": [
    "dataset = \"mnist\"\n",
    "#dataset = \"cifar10\"\n",
    "#nn_type = \"cnn\"\n",
    "nn_type = \"mlp\""
   ]
  },
  {
   "cell_type": "code",
   "execution_count": 4,
   "metadata": {},
   "outputs": [],
   "source": [
    "cfg_filename = f\"configs/{nn_type}/config-{dataset}.json\"\n",
    "\n",
    "with open(cfg_filename) as cfg_file:\n",
    "    cfg = json.load(cfg_file)"
   ]
  },
  {
   "cell_type": "code",
   "execution_count": 5,
   "metadata": {},
   "outputs": [],
   "source": [
    "cfg[\"RGRAPH\"][\"SAVE_GRAPH\"] = True"
   ]
  },
  {
   "cell_type": "code",
   "execution_count": 6,
   "metadata": {},
   "outputs": [],
   "source": [
    "param_grid = {\n",
    "    \"sparsities\" : [0.5], \n",
    "    \"rewiring_probabilities\" : [0.128],\n",
    "    \"random_seeds\" : [4]\n",
    "}"
   ]
  },
  {
   "cell_type": "code",
   "execution_count": 7,
   "metadata": {},
   "outputs": [],
   "source": [
    "from src import explore"
   ]
  },
  {
   "cell_type": "code",
   "execution_count": 8,
   "metadata": {},
   "outputs": [
    {
     "name": "stdout",
     "output_type": "stream",
     "text": [
      "Train\n",
      "loss : 0.22763555558092557\n",
      "top1_err : 6.46488539445629\n",
      "top5_err : 0.5785803042495175\n",
      "---\n",
      "\n",
      "Test\n",
      "top1_err : 2.8579905063291138\n",
      "top5_err : 0.04944620253164557\n",
      "---\n",
      "\n",
      "Train\n",
      "loss : 0.08345944847442957\n",
      "top1_err : 2.478678038379531\n",
      "top5_err : 0.04664179104477612\n",
      "---\n",
      "\n",
      "Test\n",
      "top1_err : 2.2053006329113924\n",
      "top5_err : 0.08900316455696203\n",
      "---\n",
      "\n",
      "Train\n",
      "loss : 0.05666155348927068\n",
      "top1_err : 1.7007595948827292\n",
      "top5_err : 0.024986673773987205\n",
      "---\n",
      "\n",
      "Test\n",
      "top1_err : 2.2547468354430378\n",
      "top5_err : 0.03955696202531646\n",
      "---\n",
      "\n",
      "Train\n",
      "loss : 0.037774249192958735\n",
      "top1_err : 1.1721526254723067\n",
      "top5_err : 0.013326226012793176\n",
      "---\n",
      "\n",
      "Test\n",
      "top1_err : 1.7899525316455696\n",
      "top5_err : 0.01977848101265823\n",
      "---\n",
      "\n",
      "Train\n",
      "loss : 0.026118183875881405\n",
      "top1_err : 0.8017945899638032\n",
      "top5_err : 0.0049973347547974415\n",
      "---\n",
      "\n",
      "Test\n",
      "top1_err : 1.7800632911392404\n",
      "top5_err : 0.01977848101265823\n",
      "---\n",
      "\n",
      "Train\n",
      "loss : 0.01590364778921731\n",
      "top1_err : 0.4219971485991976\n",
      "top5_err : 0.006663113006396588\n",
      "---\n",
      "\n",
      "Test\n",
      "top1_err : 1.4240506329113924\n",
      "top5_err : 0.009889240506329115\n",
      "---\n",
      "\n",
      "Train\n",
      "loss : 0.010347827338178689\n",
      "top1_err : 0.23987206823027718\n",
      "top5_err : 0.003331556503198294\n",
      "---\n",
      "\n",
      "Test\n",
      "top1_err : 1.5625\n",
      "top5_err : 0.01977848101265823\n",
      "---\n",
      "\n",
      "Train\n",
      "loss : 0.006759616838488132\n",
      "top1_err : 0.12493336886993603\n",
      "top5_err : 0.003331556503198294\n",
      "---\n",
      "\n",
      "Test\n",
      "top1_err : 1.4339398734177216\n",
      "top5_err : 0.009889240506329115\n",
      "---\n",
      "\n",
      "Train\n",
      "loss : 0.005450790359907702\n",
      "top1_err : 0.08828624733475479\n",
      "top5_err : 0.003331556503198294\n",
      "---\n",
      "\n",
      "Test\n",
      "top1_err : 1.4636075949367089\n",
      "top5_err : 0.009889240506329115\n",
      "---\n",
      "\n",
      "Train\n",
      "loss : 0.004360422147621613\n",
      "top1_err : 0.04664179104477612\n",
      "top5_err : 0.003331556503198294\n",
      "---\n",
      "\n",
      "Test\n",
      "top1_err : 1.4339398734177216\n",
      "top5_err : 0.009889240506329115\n",
      "---\n",
      "\n"
     ]
    }
   ],
   "source": [
    "explore.run_on_param_grid(cfg, param_grid, log = True)"
   ]
  },
  {
   "cell_type": "code",
   "execution_count": 9,
   "metadata": {},
   "outputs": [],
   "source": [
    "from utils import graph_utils"
   ]
  },
  {
   "cell_type": "code",
   "execution_count": 10,
   "metadata": {},
   "outputs": [
    {
     "name": "stdout",
     "output_type": "stream",
     "text": [
      "{'clustering_coefficient': 0.619947269517153, 'average_path_length': 1.4862745098039216}\n"
     ]
    }
   ],
   "source": [
    "for sparsity in param_grid[\"sparsities\"]:\n",
    "    for p in param_grid[\"rewiring_probabilities\"]:\n",
    "        for seed in param_grid[\"random_seeds\"]:\n",
    "            out_dir = f\"{cfg['OUT_DIR']}/{cfg['MODEL']['TYPE']}/{cfg['TRAIN']['DATASET']}/graphs/{cfg['RGRAPH']['GRAPH_TYPE']}\"\n",
    "            graph = graph_utils.load_graph(f\"{out_dir}/gsparsity={sparsity}_p={p}_gseed={seed}.npz\")\n",
    "            print(graph_utils.get_graph_stats(graph))"
   ]
  },
  {
   "cell_type": "code",
   "execution_count": 11,
   "metadata": {},
   "outputs": [],
   "source": [
    "from utils import log_parser"
   ]
  },
  {
   "cell_type": "code",
   "execution_count": 13,
   "metadata": {},
   "outputs": [
    {
     "data": {
      "text/plain": [
       "<matplotlib.legend.Legend at 0x7fd7f69752b0>"
      ]
     },
     "execution_count": 13,
     "metadata": {},
     "output_type": "execute_result"
    },
    {
     "data": {
      "image/png": "[encoded data removed]",
      "text/plain": [
       "<Figure size 648x432 with 1 Axes>"
      ]
     },
     "metadata": {
      "needs_background": "light"
     },
     "output_type": "display_data"
    }
   ],
   "source": [
    "\n",
    "plt.figure(figsize = (9, 6))\n",
    "\n",
    "for sparsity in param_grid[\"sparsities\"]:\n",
    "    for p in param_grid[\"rewiring_probabilities\"]:\n",
    "        for seed in param_grid[\"random_seeds\"]:\n",
    "            out_dir = f\"{cfg['OUT_DIR']}/{cfg['MODEL']['TYPE']}/{cfg['TRAIN']['DATASET']}/logs/{cfg['RGRAPH']['GRAPH_TYPE']}\"\n",
    "            train_stats, test_stats = log_parser.parse_log(f\"{out_dir}/log_gsparsity={sparsity}_p={p}_gseed={seed}.txt\")\n",
    "            \n",
    "            plt.plot(train_stats[:, 1], label = f\"Train s={sparsity}\")\n",
    "            plt.plot(test_stats[:, 0], label = f\"Test s={sparsity}\")\n",
    "            \n",
    "plt.legend()"
   ]
  },
  {
   "cell_type": "code",
   "execution_count": null,
   "metadata": {},
   "outputs": [],
   "source": []
  }
 ],
 "metadata": {
  "kernelspec": {
   "display_name": "Python 3",
   "language": "python",
   "name": "python3"
  },
  "language_info": {
   "codemirror_mode": {
    "name": "ipython",
    "version": 3
   },
   "file_extension": ".py",
   "mimetype": "text/x-python",
   "name": "python",
   "nbconvert_exporter": "python",
   "pygments_lexer": "ipython3",
   "version": "3.8.5"
  }
 },
 "nbformat": 4,
 "nbformat_minor": 4
}
