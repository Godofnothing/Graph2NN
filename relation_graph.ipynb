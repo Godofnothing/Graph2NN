{
 "cells": [
  {
   "cell_type": "code",
   "execution_count": 80,
   "metadata": {},
   "outputs": [],
   "source": [
    "import matplotlib.pyplot as plt\n",
    "import json"
   ]
  },
  {
   "cell_type": "code",
   "execution_count": 10,
   "metadata": {},
   "outputs": [],
   "source": [
    "%load_ext autoreload\n",
    "%autoreload 2"
   ]
  },
  {
   "cell_type": "code",
   "execution_count": 2,
   "metadata": {},
   "outputs": [],
   "source": [
    "dataset = \"mnist\"\n",
    "nn_type = \"mlp\""
   ]
  },
  {
   "cell_type": "code",
   "execution_count": 6,
   "metadata": {},
   "outputs": [],
   "source": [
    "cfg_filename = f\"configs/{nn_type}/config-{dataset}.json\"\n",
    "\n",
    "with open(cfg_filename) as cfg_file:\n",
    "    cfg = json.load(cfg_file)"
   ]
  },
  {
   "cell_type": "code",
   "execution_count": 7,
   "metadata": {},
   "outputs": [],
   "source": [
    "cfg[\"RGRAPH\"][\"SAVE_GRAPH\"] = True"
   ]
  },
  {
   "cell_type": "code",
   "execution_count": 8,
   "metadata": {},
   "outputs": [],
   "source": [
    "param_grid = {\n",
    "    \"sparsities\" : [0.3, 0.7], \n",
    "    \"rewiring_probabilities\" : [0.128],\n",
    "    \"random_seeds\" : [4]\n",
    "}"
   ]
  },
  {
   "cell_type": "code",
   "execution_count": 9,
   "metadata": {},
   "outputs": [],
   "source": [
    "from src import explore"
   ]
  },
  {
   "cell_type": "code",
   "execution_count": 11,
   "metadata": {},
   "outputs": [
    {
     "name": "stdout",
     "output_type": "stream",
     "text": [
      "Train\n",
      "loss : 0.2223138530085336\n",
      "top1_err : 6.463774867149304\n",
      "top5_err : 0.5869091955075132\n",
      "---\n",
      "\n",
      "Test\n",
      "top1_err : 2.670094936708861\n",
      "top5_err : 0.06922468354430379\n",
      "---\n",
      "\n",
      "Train\n",
      "loss : 0.08224041682125917\n",
      "top1_err : 2.500888406594933\n",
      "top5_err : 0.04997334754797441\n",
      "---\n",
      "\n",
      "Test\n",
      "top1_err : 2.1064082278481013\n",
      "top5_err : 0.06922468354430379\n",
      "---\n",
      "\n",
      "Train\n",
      "loss : 0.056720824211216304\n",
      "top1_err : 1.755730277185501\n",
      "top5_err : 0.029984008528784648\n",
      "---\n",
      "\n",
      "Test\n",
      "top1_err : 2.0272943037974684\n",
      "top5_err : 0.04944620253164557\n",
      "---\n",
      "\n",
      "Train\n",
      "loss : 0.036017885778162846\n",
      "top1_err : 1.1082977882580463\n",
      "top5_err : 0.014992004264392324\n",
      "---\n",
      "\n",
      "Test\n",
      "top1_err : 1.7207278481012658\n",
      "top5_err : 0.03955696202531646\n",
      "---\n",
      "\n",
      "Train\n",
      "loss : 0.02492116068327017\n",
      "top1_err : 0.7307213887985327\n",
      "top5_err : 0.009994669509594883\n",
      "---\n",
      "\n",
      "Test\n",
      "top1_err : 1.5723892405063291\n",
      "top5_err : 0.009889240506329115\n",
      "---\n",
      "\n",
      "Train\n",
      "loss : 0.016237158221063582\n",
      "top1_err : 0.45642324093816633\n",
      "top5_err : 0.0049973347547974415\n",
      "---\n",
      "\n",
      "Test\n",
      "top1_err : 1.5031645569620253\n",
      "top5_err : 0.01977848101265823\n",
      "---\n",
      "\n",
      "Train\n",
      "loss : 0.010674139350724181\n",
      "top1_err : 0.24820095948827292\n",
      "top5_err : 0.003331556503198294\n",
      "---\n",
      "\n",
      "Test\n",
      "top1_err : 1.3746044303797469\n",
      "top5_err : 0.02966772151898734\n",
      "---\n",
      "\n",
      "Train\n",
      "loss : 0.007591606476090983\n",
      "top1_err : 0.13992537313432835\n",
      "top5_err : 0.003331556503198294\n",
      "---\n",
      "\n",
      "Test\n",
      "top1_err : 1.2757120253164558\n",
      "top5_err : 0.02966772151898734\n",
      "---\n",
      "\n",
      "Train\n",
      "loss : 0.006015494653730711\n",
      "top1_err : 0.113272921108742\n",
      "top5_err : 0.001665778251599147\n",
      "---\n",
      "\n",
      "Test\n",
      "top1_err : 1.295490506329114\n",
      "top5_err : 0.01977848101265823\n",
      "---\n",
      "\n",
      "Train\n",
      "loss : 0.005103252663178794\n",
      "top1_err : 0.07329424307036247\n",
      "top5_err : 0.0\n",
      "---\n",
      "\n",
      "Test\n",
      "top1_err : 1.295490506329114\n",
      "top5_err : 0.02966772151898734\n",
      "---\n",
      "\n",
      "Train\n",
      "loss : 0.2287100683143144\n",
      "top1_err : 6.530961260358408\n",
      "top5_err : 0.6096748400852878\n",
      "---\n",
      "\n",
      "Test\n",
      "top1_err : 2.8579905063291138\n",
      "top5_err : 0.04944620253164557\n",
      "---\n",
      "\n",
      "Train\n",
      "loss : 0.08389280188971682\n",
      "top1_err : 2.5858430974264897\n",
      "top5_err : 0.04331023454157783\n",
      "---\n",
      "\n",
      "Test\n",
      "top1_err : 2.264636075949367\n",
      "top5_err : 0.02966772151898734\n",
      "---\n",
      "\n",
      "Train\n",
      "loss : 0.05610649988972651\n",
      "top1_err : 1.6841018123667377\n",
      "top5_err : 0.03331556503198294\n",
      "---\n",
      "\n",
      "Test\n",
      "top1_err : 1.7899525316455696\n",
      "top5_err : 0.07911392405063292\n",
      "---\n",
      "\n",
      "Train\n",
      "loss : 0.03811408762784321\n",
      "top1_err : 1.1765946965736112\n",
      "top5_err : 0.013326226012793176\n",
      "---\n",
      "\n",
      "Test\n",
      "top1_err : 1.7800632911392404\n",
      "top5_err : 0.05933544303797468\n",
      "---\n",
      "\n",
      "Train\n",
      "loss : 0.025792208207058295\n",
      "top1_err : 0.7684790249318202\n",
      "top5_err : 0.008328891257995736\n",
      "---\n",
      "\n",
      "Test\n",
      "top1_err : 1.6119462025316456\n",
      "top5_err : 0.04944620253164557\n",
      "---\n",
      "\n",
      "Train\n",
      "loss : 0.017170068023275576\n",
      "top1_err : 0.516946508940349\n",
      "top5_err : 0.006663113006396588\n",
      "---\n",
      "\n",
      "Test\n",
      "top1_err : 1.6317246835443038\n",
      "top5_err : 0.02966772151898734\n",
      "---\n",
      "\n",
      "Train\n",
      "loss : 0.010437725887778821\n",
      "top1_err : 0.2681902985074627\n",
      "top5_err : 0.006663113006396588\n",
      "---\n",
      "\n",
      "Test\n",
      "top1_err : 1.5130537974683544\n",
      "top5_err : 0.02966772151898734\n",
      "---\n",
      "\n",
      "Train\n",
      "loss : 0.0077585191841968\n",
      "top1_err : 0.1732409381663113\n",
      "top5_err : 0.006663113006396588\n",
      "---\n",
      "\n",
      "Test\n",
      "top1_err : 1.4537183544303798\n",
      "top5_err : 0.01977848101265823\n",
      "---\n",
      "\n",
      "Train\n",
      "loss : 0.00569118041324733\n",
      "top1_err : 0.08995202558635394\n",
      "top5_err : 0.0049973347547974415\n",
      "---\n",
      "\n",
      "Test\n",
      "top1_err : 1.4339398734177216\n",
      "top5_err : 0.01977848101265823\n",
      "---\n",
      "\n",
      "Train\n",
      "loss : 0.004750605116708518\n",
      "top1_err : 0.06496535181236673\n",
      "top5_err : 0.003331556503198294\n",
      "---\n",
      "\n",
      "Test\n",
      "top1_err : 1.3943829113924051\n",
      "top5_err : 0.02966772151898734\n",
      "---\n",
      "\n"
     ]
    }
   ],
   "source": [
    "explore.run_on_param_grid(cfg, param_grid, log = True)"
   ]
  },
  {
   "cell_type": "code",
   "execution_count": 12,
   "metadata": {},
   "outputs": [],
   "source": [
    "from utils import graph_utils"
   ]
  },
  {
   "cell_type": "code",
   "execution_count": null,
   "metadata": {},
   "outputs": [],
   "source": [
    "gsparsity={rgraph['SPARSITY']}_p={rgraph['P']}_gseed={rgraph['SEED_GRAPH']}.npz"
   ]
  },
  {
   "cell_type": "code",
   "execution_count": 22,
   "metadata": {},
   "outputs": [
    {
     "name": "stdout",
     "output_type": "stream",
     "text": [
      "{'clustering_coefficient': 0.5769675474765059, 'average_path_length': 1.7877450980392158}\n",
      "{'clustering_coefficient': 0.7212951609684624, 'average_path_length': 1.2980392156862746}\n"
     ]
    }
   ],
   "source": [
    "for sparsity in param_grid[\"sparsities\"]:\n",
    "    for p in param_grid[\"rewiring_probabilities\"]:\n",
    "        for seed in param_grid[\"random_seeds\"]:\n",
    "            out_dir = f\"{cfg['OUT_DIR']}/{cfg['MODEL']['TYPE']}/{cfg['TRAIN']['DATASET']}/graphs\"\n",
    "            graph = graph_utils.load_graph(f\"{out_dir}/gsparsity={sparsity}_p={p}_gseed={seed}.npz\")\n",
    "            print(graph_utils.get_graph_stats(graph))"
   ]
  },
  {
   "cell_type": "code",
   "execution_count": 81,
   "metadata": {},
   "outputs": [],
   "source": [
    "from utils import log_parser"
   ]
  },
  {
   "cell_type": "code",
   "execution_count": 82,
   "metadata": {},
   "outputs": [
    {
     "data": {
      "text/plain": [
       "<matplotlib.legend.Legend at 0x7f99535116a0>"
      ]
     },
     "execution_count": 82,
     "metadata": {},
     "output_type": "execute_result"
    },
    {
     "data": {
      "image/png": "[encoded data removed]",
      "text/plain": [
       "<Figure size 648x432 with 1 Axes>"
      ]
     },
     "metadata": {
      "needs_background": "light"
     },
     "output_type": "display_data"
    }
   ],
   "source": [
    "plt.figure(figsize = (9, 6))\n",
    "\n",
    "for sparsity in param_grid[\"sparsities\"]:\n",
    "    for p in param_grid[\"rewiring_probabilities\"]:\n",
    "        for seed in param_grid[\"random_seeds\"]:\n",
    "            out_dir = f\"{cfg['OUT_DIR']}/{cfg['MODEL']['TYPE']}/{cfg['TRAIN']['DATASET']}/logs\"\n",
    "            train_stats, test_stats = log_parser.parse_log(f\"{out_dir}/log_gsparsity={sparsity}_p={p}_gseed={seed}.txt\")\n",
    "            \n",
    "            plt.plot(train_stats[:, 1], label = f\"Train s={sparsity}\")\n",
    "            plt.plot(test_stats[:, 0], label = f\"Test s={sparsity}\")\n",
    "            \n",
    "plt.legend()"
   ]
  }
 ],
 "metadata": {
  "kernelspec": {
   "display_name": "Python 3",
   "language": "python",
   "name": "python3"
  },
  "language_info": {
   "codemirror_mode": {
    "name": "ipython",
    "version": 3
   },
   "file_extension": ".py",
   "mimetype": "text/x-python",
   "name": "python",
   "nbconvert_exporter": "python",
   "pygments_lexer": "ipython3",
   "version": "3.8.5"
  }
 },
 "nbformat": 4,
 "nbformat_minor": 4
}
