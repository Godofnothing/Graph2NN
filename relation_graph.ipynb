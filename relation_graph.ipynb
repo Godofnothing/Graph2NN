{
 "cells": [
  {
   "cell_type": "code",
   "execution_count": 1,
   "metadata": {},
   "outputs": [],
   "source": [
    "import matplotlib.pyplot as plt\n",
    "import json"
   ]
  },
  {
   "cell_type": "code",
   "execution_count": 2,
   "metadata": {},
   "outputs": [],
   "source": [
    "%load_ext autoreload\n",
    "%autoreload 2"
   ]
  },
  {
   "cell_type": "code",
   "execution_count": 13,
   "metadata": {},
   "outputs": [],
   "source": [
    "dataset = \"mnist\"\n",
    "#dataset = \"cifar10\"\n",
    "nn_type = \"cnn\"\n",
    "#nn_type = \"mlp\""
   ]
  },
  {
   "cell_type": "code",
   "execution_count": 14,
   "metadata": {},
   "outputs": [],
   "source": [
    "cfg_filename = f\"configs/{nn_type}/config-{dataset}.json\"\n",
    "\n",
    "with open(cfg_filename) as cfg_file:\n",
    "    cfg = json.load(cfg_file)"
   ]
  },
  {
   "cell_type": "code",
   "execution_count": 15,
   "metadata": {},
   "outputs": [],
   "source": [
    "cfg[\"RGRAPH\"][\"SAVE_GRAPH\"] = True"
   ]
  },
  {
   "cell_type": "code",
   "execution_count": 16,
   "metadata": {},
   "outputs": [],
   "source": [
    "param_grid = {\n",
    "    \"sparsities\" : [0.5], \n",
    "    \"rewiring_probabilities\" : [0.128],\n",
    "    \"random_seeds\" : [4]\n",
    "}"
   ]
  },
  {
   "cell_type": "code",
   "execution_count": 17,
   "metadata": {},
   "outputs": [],
   "source": [
    "from src import explore"
   ]
  },
  {
   "cell_type": "code",
   "execution_count": 18,
   "metadata": {},
   "outputs": [
    {
     "name": "stdout",
     "output_type": "stream",
     "text": [
      "Train\n",
      "loss : 0.9767532833476564\n",
      "top1_err : 28.530339366083208\n",
      "top5_err : 4.829091151385928\n",
      "---\n",
      "\n",
      "Test\n",
      "top1_err : 6.9323575949367084\n",
      "top5_err : 0.524129746835443\n",
      "---\n",
      "\n",
      "Train\n",
      "loss : 0.223233345316163\n",
      "top1_err : 5.232764739217535\n",
      "top5_err : 0.2820717754648693\n",
      "---\n",
      "\n",
      "Test\n",
      "top1_err : 3.7974683544303796\n",
      "top5_err : 0.16811708860759494\n",
      "---\n",
      "\n",
      "Train\n",
      "loss : 0.12904890844308492\n",
      "top1_err : 3.1316631130063968\n",
      "top5_err : 0.1382595948827292\n",
      "---\n",
      "\n",
      "Test\n",
      "top1_err : 5.13251582278481\n",
      "top5_err : 0.2076740506329114\n",
      "---\n",
      "\n",
      "Train\n",
      "loss : 0.09810979365667047\n",
      "top1_err : 2.440920389537364\n",
      "top5_err : 0.08995202558635394\n",
      "---\n",
      "\n",
      "Test\n",
      "top1_err : 2.412974683544304\n",
      "top5_err : 0.09889240506329114\n",
      "---\n",
      "\n",
      "Train\n",
      "loss : 0.08102838294719582\n",
      "top1_err : 2.0044864876183874\n",
      "top5_err : 0.059968017057569295\n",
      "---\n",
      "\n",
      "Test\n",
      "top1_err : 2.7590981012658227\n",
      "top5_err : 0.07911392405063292\n",
      "---\n",
      "\n",
      "Train\n",
      "loss : 0.07031325389867399\n",
      "top1_err : 1.717972628343334\n",
      "top5_err : 0.04386548548619122\n",
      "---\n",
      "\n",
      "Test\n",
      "top1_err : 2.274525316455696\n",
      "top5_err : 0.04944620253164557\n",
      "---\n",
      "\n",
      "Train\n",
      "loss : 0.06305819762938185\n",
      "top1_err : 1.481987379761393\n",
      "top5_err : 0.03331556503198294\n",
      "---\n",
      "\n",
      "Test\n",
      "top1_err : 1.9284018987341771\n",
      "top5_err : 0.02966772151898734\n",
      "---\n",
      "\n",
      "Train\n",
      "loss : 0.05905535517296176\n",
      "top1_err : 1.34761460554371\n",
      "top5_err : 0.0283182302771855\n",
      "---\n",
      "\n",
      "Test\n",
      "top1_err : 1.9679588607594938\n",
      "top5_err : 0.03955696202531646\n",
      "---\n",
      "\n",
      "Train\n",
      "loss : 0.056003007970289634\n",
      "top1_err : 1.2548862743987712\n",
      "top5_err : 0.021655117270788914\n",
      "---\n",
      "\n",
      "Test\n",
      "top1_err : 1.8492879746835442\n",
      "top5_err : 0.03955696202531646\n",
      "---\n",
      "\n",
      "Train\n",
      "loss : 0.054828101133645724\n",
      "top1_err : 1.2393390191897655\n",
      "top5_err : 0.021655117270788914\n",
      "---\n",
      "\n",
      "Test\n",
      "top1_err : 1.829509493670886\n",
      "top5_err : 0.03955696202531646\n",
      "---\n",
      "\n"
     ]
    }
   ],
   "source": [
    "explore.run_on_param_grid(cfg, param_grid, log = True)"
   ]
  },
  {
   "cell_type": "code",
   "execution_count": 19,
   "metadata": {},
   "outputs": [],
   "source": [
    "from utils import graph_utils"
   ]
  },
  {
   "cell_type": "code",
   "execution_count": 20,
   "metadata": {},
   "outputs": [
    {
     "name": "stdout",
     "output_type": "stream",
     "text": [
      "{'clustering_coefficient': 0.5921365568117932, 'average_path_length': 1.492063492063492}\n"
     ]
    }
   ],
   "source": [
    "for sparsity in param_grid[\"sparsities\"]:\n",
    "    for p in param_grid[\"rewiring_probabilities\"]:\n",
    "        for seed in param_grid[\"random_seeds\"]:\n",
    "            out_dir = f\"{cfg['OUT_DIR']}/{cfg['MODEL']['TYPE']}/{cfg['TRAIN']['DATASET']}/graphs\"\n",
    "            graph = graph_utils.load_graph(f\"{out_dir}/gsparsity={sparsity}_p={p}_gseed={seed}.npz\")\n",
    "            print(graph_utils.get_graph_stats(graph))"
   ]
  },
  {
   "cell_type": "code",
   "execution_count": 21,
   "metadata": {},
   "outputs": [],
   "source": [
    "from utils import log_parser"
   ]
  },
  {
   "cell_type": "code",
   "execution_count": 22,
   "metadata": {},
   "outputs": [
    {
     "data": {
      "text/plain": [
       "<matplotlib.legend.Legend at 0x7f6397efad90>"
      ]
     },
     "execution_count": 22,
     "metadata": {},
     "output_type": "execute_result"
    },
    {
     "data": {
      "image/png": "[encoded data removed]",
      "text/plain": [
       "<Figure size 648x432 with 1 Axes>"
      ]
     },
     "metadata": {
      "needs_background": "light"
     },
     "output_type": "display_data"
    }
   ],
   "source": [
    "\n",
    "plt.figure(figsize = (9, 6))\n",
    "\n",
    "for sparsity in param_grid[\"sparsities\"]:\n",
    "    for p in param_grid[\"rewiring_probabilities\"]:\n",
    "        for seed in param_grid[\"random_seeds\"]:\n",
    "            out_dir = f\"{cfg['OUT_DIR']}/{cfg['MODEL']['TYPE']}/{cfg['TRAIN']['DATASET']}/logs\"\n",
    "            train_stats, test_stats = log_parser.parse_log(f\"{out_dir}/log_gsparsity={sparsity}_p={p}_gseed={seed}.txt\")\n",
    "            \n",
    "            plt.plot(train_stats[:, 1], label = f\"Train s={sparsity}\")\n",
    "            plt.plot(test_stats[:, 0], label = f\"Test s={sparsity}\")\n",
    "            \n",
    "plt.legend()"
   ]
  },
  {
   "cell_type": "code",
   "execution_count": null,
   "metadata": {},
   "outputs": [],
   "source": []
  }
 ],
 "metadata": {
  "kernelspec": {
   "display_name": "Python 3",
   "language": "python",
   "name": "python3"
  },
  "language_info": {
   "codemirror_mode": {
    "name": "ipython",
    "version": 3
   },
   "file_extension": ".py",
   "mimetype": "text/x-python",
   "name": "python",
   "nbconvert_exporter": "python",
   "pygments_lexer": "ipython3",
   "version": "3.8.5"
  }
 },
 "nbformat": 4,
 "nbformat_minor": 4
}
