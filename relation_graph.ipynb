{
 "cells": [
  {
   "cell_type": "code",
   "execution_count": 1,
   "metadata": {},
   "outputs": [],
   "source": [
    "from models import mlp, cnn"
   ]
  },
  {
   "cell_type": "code",
   "execution_count": 2,
   "metadata": {},
   "outputs": [],
   "source": [
    "import json"
   ]
  },
  {
   "cell_type": "code",
   "execution_count": 3,
   "metadata": {},
   "outputs": [],
   "source": [
    "dataset = \"cifar10\"\n",
    "#dataset = \"mnist\"\n",
    "#nn_type = \"mlp\"\n",
    "nn_type = \"cnn\"\n",
    "cfg_filename = f\"configs/{nn_type}/config-{dataset}.json\""
   ]
  },
  {
   "cell_type": "code",
   "execution_count": 4,
   "metadata": {},
   "outputs": [],
   "source": [
    "with open(cfg_filename) as cfg_file:\n",
    "    cfg = json.load(cfg_file)"
   ]
  },
  {
   "cell_type": "code",
   "execution_count": 5,
   "metadata": {},
   "outputs": [
    {
     "data": {
      "text/plain": [
       "{'MODEL': {'TYPE': 'cnnnet',\n",
       "  'DEPTH': 0,\n",
       "  'NUM_CLASSES': 10,\n",
       "  'LOSS_FUN': 'cross_entropy',\n",
       "  'LAYERS': 3},\n",
       " 'RGRAPH': {'DIM_FIRST': 64,\n",
       "  'DIM_LIST': [64, 128, 256],\n",
       "  'STEM_MODE': 'default',\n",
       "  'TALK_MODE': 'dense',\n",
       "  'GROUP_NUM': 64,\n",
       "  'GROUP_SIZE': 1,\n",
       "  'GRAPH_TYPE': 'ws',\n",
       "  'SPARSITY': 0.5,\n",
       "  'P': 0.128,\n",
       "  'SEED_GRAPH': 4,\n",
       "  'SEED_TRAIN': 1,\n",
       "  'SEED_TRAIN_START': 1,\n",
       "  'SEED_TRAIN_END': 6,\n",
       "  'KEEP_GRAPH': True,\n",
       "  'ADD_1x1': 0,\n",
       "  'UPPER': True,\n",
       "  'AUTO_MATCH': True,\n",
       "  'AGG_FUNC': 'sum',\n",
       "  'SAVE_GRAPH': False},\n",
       " 'BN': {'EPS': 1e-05,\n",
       "  'MOM': 0.1,\n",
       "  'USE_PRECISE_STATS': True,\n",
       "  'NUM_SAMPLES_PRECISE': 1024,\n",
       "  'ZERO_INIT_FINAL_GAMMA': False},\n",
       " 'OPTIM': {'BASE_LR': 0.1,\n",
       "  'LR_POLICY': 'cos',\n",
       "  'GAMMA': 0.1,\n",
       "  'STEP_SIZE': 1,\n",
       "  'STEPS': [],\n",
       "  'LR_MULT': 0.1,\n",
       "  'MAX_EPOCH': 10,\n",
       "  'MOMENTUM': 0.9,\n",
       "  'DAMPENING': 0.0,\n",
       "  'NESTEROV': True,\n",
       "  'WEIGHT_DECAY': 0.0005,\n",
       "  'WARMUP_FACTOR': 0.1,\n",
       "  'WARMUP_EPOCHS': 0},\n",
       " 'TRAIN': {'DATASET': 'cifar10',\n",
       "  'SPLIT': 'train',\n",
       "  'BATCH_SIZE': 128,\n",
       "  'EVAL_PERIOD': 1,\n",
       "  'CHECKPOINT_PERIOD': 500,\n",
       "  'AUTO_RESUME': True,\n",
       "  'START_CHECKPOINT': '',\n",
       "  'AUTO_MATCH': True},\n",
       " 'TEST': {'DATASET': 'cifar10', 'SPLIT': 'test', 'BATCH_SIZE': 128},\n",
       " 'MEM': {'RELU_INPLACE': True},\n",
       " 'RESNET': {'TRANS_FUN': 'convtalk_transform',\n",
       "  'NUM_GROUPS': 1,\n",
       "  'WIDTH_PER_GROUP': 64,\n",
       "  'STRIDE_1X1': False,\n",
       "  'APPEND1x1': 0,\n",
       "  'GROUP_SIZE': 2},\n",
       " 'DATA_LOADER': {'NUM_WORKERS': 4},\n",
       " 'OUT_DIR': '/tmp'}"
      ]
     },
     "execution_count": 5,
     "metadata": {},
     "output_type": "execute_result"
    }
   ],
   "source": [
    "cfg"
   ]
  },
  {
   "cell_type": "code",
   "execution_count": 6,
   "metadata": {},
   "outputs": [],
   "source": [
    "import utils.scheduler as sch"
   ]
  },
  {
   "cell_type": "code",
   "execution_count": 7,
   "metadata": {},
   "outputs": [],
   "source": [
    "import torch\n",
    "import torch.optim as optim\n",
    "import torch.nn as nn"
   ]
  },
  {
   "cell_type": "code",
   "execution_count": 20,
   "metadata": {},
   "outputs": [],
   "source": [
    "from src import train\n",
    "from loaders import cifar10, mnist"
   ]
  },
  {
   "cell_type": "code",
   "execution_count": 15,
   "metadata": {},
   "outputs": [],
   "source": [
    "#cfg[\"RGRAPH\"][\"SPARSITY\"] = 0.5\n",
    "#cfg[\"RGRAPH\"][\"GRAPH_TYPE\"] = 'ba'"
   ]
  },
  {
   "cell_type": "code",
   "execution_count": 57,
   "metadata": {},
   "outputs": [],
   "source": [
    "#mlpnet = mlp.MLPNet(cfg)\n",
    "cnnnet = cnn.CNN(cfg)"
   ]
  },
  {
   "cell_type": "code",
   "execution_count": 58,
   "metadata": {},
   "outputs": [],
   "source": [
    "device = 'cuda' if torch.cuda.is_available() else 'cpu'"
   ]
  },
  {
   "cell_type": "code",
   "execution_count": 59,
   "metadata": {},
   "outputs": [],
   "source": [
    "#mlpnet = mlpnet.to(device)\n",
    "cnnnet = cnnnet.to(device)"
   ]
  },
  {
   "cell_type": "code",
   "execution_count": 60,
   "metadata": {},
   "outputs": [
    {
     "name": "stdout",
     "output_type": "stream",
     "text": [
      "Files already downloaded and verified\n",
      "Files already downloaded and verified\n"
     ]
    }
   ],
   "source": [
    "train_loader, test_loader = cifar10.prepare_data(cfg)\n",
    "#train_loader, test_loader = mnist.prepare_data(cfg)"
   ]
  },
  {
   "cell_type": "code",
   "execution_count": 34,
   "metadata": {},
   "outputs": [
    {
     "data": {
      "text/plain": [
       "1"
      ]
     },
     "execution_count": 34,
     "metadata": {},
     "output_type": "execute_result"
    }
   ],
   "source": [
    "1 & 1"
   ]
  },
  {
   "cell_type": "code",
   "execution_count": 23,
   "metadata": {},
   "outputs": [],
   "source": [
    "import importlib"
   ]
  },
  {
   "cell_type": "code",
   "execution_count": 61,
   "metadata": {},
   "outputs": [
    {
     "data": {
      "text/plain": [
       "<module 'src.train' from '/home/blackadder/TheoreticalMethodsOfDL/FinalProject/Graph2NN/src/train.py'>"
      ]
     },
     "execution_count": 61,
     "metadata": {},
     "output_type": "execute_result"
    }
   ],
   "source": [
    "importlib.reload(train)"
   ]
  },
  {
   "cell_type": "code",
   "execution_count": 62,
   "metadata": {},
   "outputs": [],
   "source": [
    "loss_fn = nn.CrossEntropyLoss()\n",
    "\n",
    "# optimizer = optim.SGD(mlpnet.parameters(), \n",
    "#                       lr=cfg[\"OPTIM\"][\"BASE_LR\"], \n",
    "#                       momentum=cfg[\"OPTIM\"][\"MOMENTUM\"], \n",
    "#                       weight_decay=cfg[\"OPTIM\"][\"WEIGHT_DECAY\"])\n",
    "\n",
    "optimizer = optim.SGD(cnnnet.parameters(), \n",
    "                      lr=cfg[\"OPTIM\"][\"BASE_LR\"], \n",
    "                      momentum=cfg[\"OPTIM\"][\"MOMENTUM\"], \n",
    "                      weight_decay=cfg[\"OPTIM\"][\"WEIGHT_DECAY\"])\n",
    "\n",
    "scheduler = sch.create_scheduler(optimizer, cfg)"
   ]
  },
  {
   "cell_type": "code",
   "execution_count": 63,
   "metadata": {},
   "outputs": [
    {
     "name": "stdout",
     "output_type": "stream",
     "text": [
      "top1_err : 55.7060917721519\n",
      "top5_err : 8.791534810126583\n",
      "---\n",
      "\n",
      "top1_err : 48.269382911392405\n",
      "top5_err : 5.617088607594937\n",
      "---\n",
      "\n",
      "top1_err : 45.62895569620253\n",
      "top5_err : 5.0039556962025316\n",
      "---\n",
      "\n",
      "top1_err : 41.87104430379747\n",
      "top5_err : 4.0842563291139244\n",
      "---\n",
      "\n",
      "top1_err : 38.59770569620253\n",
      "top5_err : 3.6985759493670884\n",
      "---\n",
      "\n",
      "top1_err : 38.25158227848101\n",
      "top5_err : 2.956882911392405\n",
      "---\n",
      "\n",
      "top1_err : 35.452927215189874\n",
      "top5_err : 2.778876582278481\n",
      "---\n",
      "\n",
      "top1_err : 34.93868670886076\n",
      "top5_err : 2.7492088607594938\n",
      "---\n",
      "\n",
      "top1_err : 34.24643987341772\n",
      "top5_err : 2.6404272151898733\n",
      "---\n",
      "\n",
      "top1_err : 33.3564082278481\n",
      "top5_err : 2.492088607594937\n",
      "---\n",
      "\n"
     ]
    }
   ],
   "source": [
    "history = train.run_training_procedure(cnnnet, \n",
    "                             cfg=cfg, \n",
    "                             train_loader=train_loader, \n",
    "                             loss_fn=loss_fn, \n",
    "                             optimizer=optimizer, \n",
    "                             test_loader=test_loader, \n",
    "                             scheduler=scheduler, \n",
    "                             log = False, \n",
    "                             return_metrics=True, \n",
    "                             evaluate_on_test=True)"
   ]
  },
  {
   "cell_type": "code",
   "execution_count": 64,
   "metadata": {},
   "outputs": [
    {
     "data": {
      "text/plain": [
       "{'train_loss': [0.0, 0.0, 0.0, 0.0, 0.0, 0.0, 0.0, 0.0, 0.0, 0.0],\n",
       " 'train_acc1': [0.0, 0.0, 0.0, 0.0, 0.0, 0.0, 0.0, 0.0, 0.0, 0.0],\n",
       " 'train_acc5': [0.0, 0.0, 0.0, 0.0, 0.0, 0.0, 0.0, 0.0, 0.0, 0.0],\n",
       " 'test_acc1': [55.7060917721519,\n",
       "  48.269382911392405,\n",
       "  45.62895569620253,\n",
       "  41.87104430379747,\n",
       "  38.59770569620253,\n",
       "  38.25158227848101,\n",
       "  35.452927215189874,\n",
       "  34.93868670886076,\n",
       "  34.24643987341772,\n",
       "  33.3564082278481],\n",
       " 'test_acc5': [8.791534810126583,\n",
       "  5.617088607594937,\n",
       "  5.0039556962025316,\n",
       "  4.0842563291139244,\n",
       "  3.6985759493670884,\n",
       "  2.956882911392405,\n",
       "  2.778876582278481,\n",
       "  2.7492088607594938,\n",
       "  2.6404272151898733,\n",
       "  2.492088607594937]}"
      ]
     },
     "execution_count": 64,
     "metadata": {},
     "output_type": "execute_result"
    }
   ],
   "source": [
    "history"
   ]
  },
  {
   "cell_type": "code",
   "execution_count": 66,
   "metadata": {},
   "outputs": [],
   "source": [
    "import matplotlib.pyplot as plt"
   ]
  },
  {
   "cell_type": "code",
   "execution_count": 67,
   "metadata": {},
   "outputs": [
    {
     "data": {
      "text/plain": [
       "[<matplotlib.lines.Line2D at 0x7fae6b7654c0>]"
      ]
     },
     "execution_count": 67,
     "metadata": {},
     "output_type": "execute_result"
    },
    {
     "data": {
      "image/png": "[encoded data removed]",
      "text/plain": [
       "<Figure size 432x288 with 1 Axes>"
      ]
     },
     "metadata": {
      "needs_background": "light"
     },
     "output_type": "display_data"
    }
   ],
   "source": [
    "plt.plot(history['test_acc1'])"
   ]
  },
  {
   "cell_type": "code",
   "execution_count": 29,
   "metadata": {},
   "outputs": [
    {
     "name": "stdout",
     "output_type": "stream",
     "text": [
      "loss : 1.738206171318698\n",
      "top1_err : 63.84151214833759\n",
      "top5_err : 13.659686703206328\n",
      "---\n",
      "\n",
      "loss : 1.4061854641760707\n",
      "top1_err : 51.0202205882353\n",
      "top5_err : 6.972506391422828\n",
      "---\n",
      "\n",
      "loss : 1.2439367591267656\n",
      "top1_err : 44.84454922298031\n",
      "top5_err : 4.937659840449653\n",
      "---\n",
      "\n",
      "loss : 1.1355562123191325\n",
      "top1_err : 40.51110933503836\n",
      "top5_err : 4.136029411764706\n",
      "---\n",
      "\n",
      "loss : 1.050073597284839\n",
      "top1_err : 37.4588395140665\n",
      "top5_err : 3.2860453933706064\n",
      "---\n",
      "\n",
      "loss : 0.9825199755561321\n",
      "top1_err : 34.71147698697531\n",
      "top5_err : 2.7757352880199853\n",
      "---\n",
      "\n",
      "loss : 0.9343924427886143\n",
      "top1_err : 32.70780051150895\n",
      "top5_err : 2.505994239426635\n",
      "---\n",
      "\n",
      "loss : 0.8929421519074598\n",
      "top1_err : 31.247202685421996\n",
      "top5_err : 2.203484645584965\n",
      "---\n",
      "\n",
      "loss : 0.8671706934719134\n",
      "top1_err : 30.0943094629156\n",
      "top5_err : 2.0488331226436682\n",
      "---\n",
      "\n",
      "loss : 0.8523783496273752\n",
      "top1_err : 29.76062979539642\n",
      "top5_err : 1.9948849129249981\n",
      "---\n",
      "\n"
     ]
    }
   ],
   "source": [
    "# for epoch in range(cfg[\"OPTIM\"][\"MAX_EPOCH\"]):\n",
    "#     train.train_epoch(train_loader, mlpnet, loss_fn, optimizer, scheduler, log = True)\n",
    "    \n",
    "for epoch in range(cfg[\"OPTIM\"][\"MAX_EPOCH\"]):\n",
    "    train.train_epoch(train_loader, cnnnet, loss_fn, optimizer, scheduler, log = True)"
   ]
  },
  {
   "cell_type": "code",
   "execution_count": 31,
   "metadata": {},
   "outputs": [
    {
     "name": "stdout",
     "output_type": "stream",
     "text": [
      "top1_err : 32.55537974683544\n",
      "top5_err : 2.4624208860759493\n",
      "---\n",
      "\n"
     ]
    }
   ],
   "source": [
    "#train.eval_epoch(test_loader, mlpnet, cfg)\n",
    "train.eval_epoch(test_loader, cnnnet, cfg)"
   ]
  },
  {
   "cell_type": "code",
   "execution_count": null,
   "metadata": {},
   "outputs": [],
   "source": []
  }
 ],
 "metadata": {
  "kernelspec": {
   "display_name": "Python 3",
   "language": "python",
   "name": "python3"
  },
  "language_info": {
   "codemirror_mode": {
    "name": "ipython",
    "version": 3
   },
   "file_extension": ".py",
   "mimetype": "text/x-python",
   "name": "python",
   "nbconvert_exporter": "python",
   "pygments_lexer": "ipython3",
   "version": "3.8.5"
  }
 },
 "nbformat": 4,
 "nbformat_minor": 4
}
